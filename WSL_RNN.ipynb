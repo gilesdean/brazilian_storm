{
  "nbformat": 4,
  "nbformat_minor": 0,
  "metadata": {
    "colab": {
      "name": "WSL_RNN.ipynb",
      "provenance": []
    },
    "kernelspec": {
      "name": "python3",
      "display_name": "Python 3"
    },
    "accelerator": "GPU"
  },
  "cells": [
    {
      "cell_type": "code",
      "metadata": {
        "id": "LQWUZOGbnWu6",
        "colab_type": "code",
        "colab": {}
      },
      "source": [
        "import numpy as np\n",
        "import pandas as pd\n",
        "import matplotlib.pyplot as plt\n",
        "import seaborn as sns\n",
        "%matplotlib inline"
      ],
      "execution_count": null,
      "outputs": []
    },
    {
      "cell_type": "code",
      "metadata": {
        "id": "yx6MyQttni58",
        "colab_type": "code",
        "colab": {}
      },
      "source": [
        "df = pd.read_csv('nations_final.csv', index_col='Unnamed: 0',parse_dates=True)"
      ],
      "execution_count": null,
      "outputs": []
    },
    {
      "cell_type": "code",
      "metadata": {
        "id": "eGY6uN_bn3tB",
        "colab_type": "code",
        "colab": {
          "base_uri": "https://localhost:8080/",
          "height": 594
        },
        "outputId": "8eeb4f3e-1cc1-4be2-c500-7659a0485d2e"
      },
      "source": [
        "df"
      ],
      "execution_count": null,
      "outputs": [
        {
          "output_type": "execute_result",
          "data": {
            "text/html": [
              "<div>\n",
              "<style scoped>\n",
              "    .dataframe tbody tr th:only-of-type {\n",
              "        vertical-align: middle;\n",
              "    }\n",
              "\n",
              "    .dataframe tbody tr th {\n",
              "        vertical-align: top;\n",
              "    }\n",
              "\n",
              "    .dataframe thead th {\n",
              "        text-align: right;\n",
              "    }\n",
              "</style>\n",
              "<table border=\"1\" class=\"dataframe\">\n",
              "  <thead>\n",
              "    <tr style=\"text-align: right;\">\n",
              "      <th></th>\n",
              "      <th>Australia</th>\n",
              "      <th>United States</th>\n",
              "      <th>Hawaii</th>\n",
              "      <th>France</th>\n",
              "      <th>Brazil</th>\n",
              "      <th>South Africa</th>\n",
              "      <th>Portugal</th>\n",
              "      <th>Ireland</th>\n",
              "      <th>Spain</th>\n",
              "      <th>New Zealand</th>\n",
              "      <th>Japan</th>\n",
              "      <th>Italy</th>\n",
              "    </tr>\n",
              "  </thead>\n",
              "  <tbody>\n",
              "    <tr>\n",
              "      <th>2010-01-01</th>\n",
              "      <td>16</td>\n",
              "      <td>8</td>\n",
              "      <td>4</td>\n",
              "      <td>2</td>\n",
              "      <td>2</td>\n",
              "      <td>2</td>\n",
              "      <td>1.0</td>\n",
              "      <td>0.0</td>\n",
              "      <td>0.0</td>\n",
              "      <td>0.0</td>\n",
              "      <td>0.0</td>\n",
              "      <td>0.0</td>\n",
              "    </tr>\n",
              "    <tr>\n",
              "      <th>2011-01-01</th>\n",
              "      <td>14</td>\n",
              "      <td>7</td>\n",
              "      <td>3</td>\n",
              "      <td>2</td>\n",
              "      <td>6</td>\n",
              "      <td>2</td>\n",
              "      <td>1.0</td>\n",
              "      <td>0.0</td>\n",
              "      <td>0.0</td>\n",
              "      <td>0.0</td>\n",
              "      <td>0.0</td>\n",
              "      <td>0.0</td>\n",
              "    </tr>\n",
              "    <tr>\n",
              "      <th>2012-01-01</th>\n",
              "      <td>13</td>\n",
              "      <td>7</td>\n",
              "      <td>3</td>\n",
              "      <td>2</td>\n",
              "      <td>7</td>\n",
              "      <td>2</td>\n",
              "      <td>1.0</td>\n",
              "      <td>0.0</td>\n",
              "      <td>0.0</td>\n",
              "      <td>0.0</td>\n",
              "      <td>0.0</td>\n",
              "      <td>0.0</td>\n",
              "    </tr>\n",
              "    <tr>\n",
              "      <th>2013-01-01</th>\n",
              "      <td>12</td>\n",
              "      <td>7</td>\n",
              "      <td>4</td>\n",
              "      <td>2</td>\n",
              "      <td>7</td>\n",
              "      <td>2</td>\n",
              "      <td>0.0</td>\n",
              "      <td>1.0</td>\n",
              "      <td>0.0</td>\n",
              "      <td>0.0</td>\n",
              "      <td>0.0</td>\n",
              "      <td>0.0</td>\n",
              "    </tr>\n",
              "    <tr>\n",
              "      <th>2014-01-01</th>\n",
              "      <td>13</td>\n",
              "      <td>5</td>\n",
              "      <td>3</td>\n",
              "      <td>2</td>\n",
              "      <td>7</td>\n",
              "      <td>2</td>\n",
              "      <td>1.0</td>\n",
              "      <td>1.0</td>\n",
              "      <td>1.0</td>\n",
              "      <td>0.0</td>\n",
              "      <td>0.0</td>\n",
              "      <td>0.0</td>\n",
              "    </tr>\n",
              "    <tr>\n",
              "      <th>2015-01-01</th>\n",
              "      <td>12</td>\n",
              "      <td>5</td>\n",
              "      <td>5</td>\n",
              "      <td>2</td>\n",
              "      <td>8</td>\n",
              "      <td>1</td>\n",
              "      <td>0.0</td>\n",
              "      <td>1.0</td>\n",
              "      <td>0.0</td>\n",
              "      <td>1.0</td>\n",
              "      <td>0.0</td>\n",
              "      <td>0.0</td>\n",
              "    </tr>\n",
              "    <tr>\n",
              "      <th>2016-01-01</th>\n",
              "      <td>13</td>\n",
              "      <td>4</td>\n",
              "      <td>4</td>\n",
              "      <td>2</td>\n",
              "      <td>10</td>\n",
              "      <td>1</td>\n",
              "      <td>0.0</td>\n",
              "      <td>0.0</td>\n",
              "      <td>0.0</td>\n",
              "      <td>0.0</td>\n",
              "      <td>1.0</td>\n",
              "      <td>0.0</td>\n",
              "    </tr>\n",
              "    <tr>\n",
              "      <th>2017-01-01</th>\n",
              "      <td>12</td>\n",
              "      <td>4</td>\n",
              "      <td>3</td>\n",
              "      <td>3</td>\n",
              "      <td>9</td>\n",
              "      <td>1</td>\n",
              "      <td>1.0</td>\n",
              "      <td>0.0</td>\n",
              "      <td>0.0</td>\n",
              "      <td>0.0</td>\n",
              "      <td>1.0</td>\n",
              "      <td>1.0</td>\n",
              "    </tr>\n",
              "    <tr>\n",
              "      <th>2018-01-01</th>\n",
              "      <td>10</td>\n",
              "      <td>5</td>\n",
              "      <td>3</td>\n",
              "      <td>3</td>\n",
              "      <td>10</td>\n",
              "      <td>2</td>\n",
              "      <td>1.0</td>\n",
              "      <td>0.0</td>\n",
              "      <td>0.0</td>\n",
              "      <td>0.0</td>\n",
              "      <td>1.0</td>\n",
              "      <td>0.0</td>\n",
              "    </tr>\n",
              "    <tr>\n",
              "      <th>2019-01-01</th>\n",
              "      <td>7</td>\n",
              "      <td>4</td>\n",
              "      <td>4</td>\n",
              "      <td>3</td>\n",
              "      <td>12</td>\n",
              "      <td>1</td>\n",
              "      <td>1.0</td>\n",
              "      <td>0.0</td>\n",
              "      <td>0.0</td>\n",
              "      <td>1.0</td>\n",
              "      <td>1.0</td>\n",
              "      <td>1.0</td>\n",
              "    </tr>\n",
              "    <tr>\n",
              "      <th>2020-01-01</th>\n",
              "      <td>11</td>\n",
              "      <td>4</td>\n",
              "      <td>2</td>\n",
              "      <td>2</td>\n",
              "      <td>11</td>\n",
              "      <td>2</td>\n",
              "      <td>1.0</td>\n",
              "      <td>0.0</td>\n",
              "      <td>0.0</td>\n",
              "      <td>0.0</td>\n",
              "      <td>1.0</td>\n",
              "      <td>1.0</td>\n",
              "    </tr>\n",
              "  </tbody>\n",
              "</table>\n",
              "</div>"
            ],
            "text/plain": [
              "            Australia  United States  Hawaii  ...  New Zealand  Japan  Italy\n",
              "2010-01-01         16              8       4  ...          0.0    0.0    0.0\n",
              "2011-01-01         14              7       3  ...          0.0    0.0    0.0\n",
              "2012-01-01         13              7       3  ...          0.0    0.0    0.0\n",
              "2013-01-01         12              7       4  ...          0.0    0.0    0.0\n",
              "2014-01-01         13              5       3  ...          0.0    0.0    0.0\n",
              "2015-01-01         12              5       5  ...          1.0    0.0    0.0\n",
              "2016-01-01         13              4       4  ...          0.0    1.0    0.0\n",
              "2017-01-01         12              4       3  ...          0.0    1.0    1.0\n",
              "2018-01-01         10              5       3  ...          0.0    1.0    0.0\n",
              "2019-01-01          7              4       4  ...          1.0    1.0    1.0\n",
              "2020-01-01         11              4       2  ...          0.0    1.0    1.0\n",
              "\n",
              "[11 rows x 12 columns]"
            ]
          },
          "metadata": {
            "tags": []
          },
          "execution_count": 5
        }
      ]
    },
    {
      "cell_type": "code",
      "metadata": {
        "id": "nH6L4pAbFg_5",
        "colab_type": "code",
        "colab": {}
      },
      "source": [
        "df.index.freq = 'AS'"
      ],
      "execution_count": null,
      "outputs": []
    },
    {
      "cell_type": "code",
      "metadata": {
        "id": "O2cjcwuzn5Ur",
        "colab_type": "code",
        "colab": {
          "base_uri": "https://localhost:8080/",
          "height": 85
        },
        "outputId": "f6a16b0b-8894-440f-8ead-91ebab3f0926"
      },
      "source": [
        "df.index"
      ],
      "execution_count": null,
      "outputs": [
        {
          "output_type": "execute_result",
          "data": {
            "text/plain": [
              "DatetimeIndex(['2010-01-01', '2011-01-01', '2012-01-01', '2013-01-01',\n",
              "               '2014-01-01', '2015-01-01', '2016-01-01', '2017-01-01',\n",
              "               '2018-01-01', '2019-01-01', '2020-01-01'],\n",
              "              dtype='datetime64[ns]', freq='AS-JAN')"
            ]
          },
          "metadata": {
            "tags": []
          },
          "execution_count": 7
        }
      ]
    },
    {
      "cell_type": "markdown",
      "metadata": {
        "id": "z4Bz5MmPoDxK",
        "colab_type": "text"
      },
      "source": [
        "## Exploratory Data Analysis"
      ]
    },
    {
      "cell_type": "code",
      "metadata": {
        "id": "TrSjvGaZn_MT",
        "colab_type": "code",
        "colab": {
          "base_uri": "https://localhost:8080/",
          "height": 500
        },
        "outputId": "aa0e384f-4f00-416f-c630-84566c2eea62"
      },
      "source": [
        "df['Australia'].plot(legend=True, figsize=(12,8), lw=4)\n",
        "df['Brazil'].plot(legend=True, lw=4)"
      ],
      "execution_count": null,
      "outputs": [
        {
          "output_type": "execute_result",
          "data": {
            "text/plain": [
              "<matplotlib.axes._subplots.AxesSubplot at 0x7f9b8256e128>"
            ]
          },
          "metadata": {
            "tags": []
          },
          "execution_count": 8
        },
        {
          "output_type": "display_data",
          "data": {
            "image/png": "[encoded data removed]",
            "text/plain": [
              "<Figure size 864x576 with 1 Axes>"
            ]
          },
          "metadata": {
            "tags": [],
            "needs_background": "light"
          }
        }
      ]
    },
    {
      "cell_type": "code",
      "metadata": {
        "id": "J-XLxP-doJQ9",
        "colab_type": "code",
        "colab": {
          "base_uri": "https://localhost:8080/",
          "height": 578
        },
        "outputId": "951e3de0-5399-4632-ecf4-d25830687497"
      },
      "source": [
        "df.plot(kind='bar',stacked=True, figsize=(12,8)).legend(loc='center left',bbox_to_anchor=(1.0, 0.5));"
      ],
      "execution_count": null,
      "outputs": [
        {
          "output_type": "display_data",
          "data": {
            "image/png": "[encoded data removed]",
            "text/plain": [
              "<Figure size 864x576 with 1 Axes>"
            ]
          },
          "metadata": {
            "tags": [],
            "needs_background": "light"
          }
        }
      ]
    },
    {
      "cell_type": "code",
      "metadata": {
        "id": "2U9id33fpD-Z",
        "colab_type": "code",
        "colab": {
          "base_uri": "https://localhost:8080/",
          "height": 297
        },
        "outputId": "d2228baa-777a-4913-fbaa-04ff5ddf66ba"
      },
      "source": [
        "#ETS Decomposition\n",
        "\n",
        "from statsmodels.tsa.seasonal import seasonal_decompose\n",
        "\n",
        "result = seasonal_decompose(df['Brazil'], model='additive')  # model='add' also works\n",
        "result.plot();"
      ],
      "execution_count": null,
      "outputs": [
        {
          "output_type": "display_data",
          "data": {
            "image/png": "[encoded data removed]",
            "text/plain": [
              "<Figure size 432x288 with 4 Axes>"
            ]
          },
          "metadata": {
            "tags": [],
            "needs_background": "light"
          }
        }
      ]
    },
    {
      "cell_type": "code",
      "metadata": {
        "id": "-HamrCA6pMRJ",
        "colab_type": "code",
        "colab": {
          "base_uri": "https://localhost:8080/",
          "height": 297
        },
        "outputId": "7f732fca-bf9d-483d-fce2-34101d0fc129"
      },
      "source": [
        "#ETS Decomposition, levels\n",
        "\n",
        "from statsmodels.tsa.seasonal import seasonal_decompose\n",
        "\n",
        "result = seasonal_decompose(df['Brazil'], model='levels')  # model='add' also works\n",
        "result.plot();"
      ],
      "execution_count": null,
      "outputs": [
        {
          "output_type": "display_data",
          "data": {
            "image/png": "[encoded data removed]",
            "text/plain": [
              "<Figure size 432x288 with 4 Axes>"
            ]
          },
          "metadata": {
            "tags": [],
            "needs_background": "light"
          }
        }
      ]
    },
    {
      "cell_type": "code",
      "metadata": {
        "id": "hq8dXnQXpThC",
        "colab_type": "code",
        "colab": {
          "base_uri": "https://localhost:8080/",
          "height": 500
        },
        "outputId": "dee85e85-a098-4f3c-f016-a7ef19697586"
      },
      "source": [
        "df['Brazil'].plot(figsize=(12,8))"
      ],
      "execution_count": null,
      "outputs": [
        {
          "output_type": "execute_result",
          "data": {
            "text/plain": [
              "<matplotlib.axes._subplots.AxesSubplot at 0x7f9b7e110358>"
            ]
          },
          "metadata": {
            "tags": []
          },
          "execution_count": 12
        },
        {
          "output_type": "display_data",
          "data": {
            "image/png": "[encoded data removed]",
            "text/plain": [
              "<Figure size 864x576 with 1 Axes>"
            ]
          },
          "metadata": {
            "tags": [],
            "needs_background": "light"
          }
        }
      ]
    },
    {
      "cell_type": "markdown",
      "metadata": {
        "id": "mgAQUbYdqb-G",
        "colab_type": "text"
      },
      "source": [
        "## Train test split"
      ]
    },
    {
      "cell_type": "markdown",
      "metadata": {
        "id": "LruSKyDn-m4P",
        "colab_type": "text"
      },
      "source": [
        "Only go forward with the 'Brazil' column as this is the one that we are looking to focus on. "
      ]
    },
    {
      "cell_type": "code",
      "metadata": {
        "id": "zPj8_HPU94XX",
        "colab_type": "code",
        "colab": {}
      },
      "source": [
        "df.drop(df.columns.difference(['Brazil']), 1 , inplace=True)"
      ],
      "execution_count": null,
      "outputs": []
    },
    {
      "cell_type": "code",
      "metadata": {
        "id": "q0-nfM9V9-BJ",
        "colab_type": "code",
        "colab": {
          "base_uri": "https://localhost:8080/",
          "height": 390
        },
        "outputId": "90d4b43b-74f4-4ce8-8102-ba622ac662a0"
      },
      "source": [
        "df"
      ],
      "execution_count": null,
      "outputs": [
        {
          "output_type": "execute_result",
          "data": {
            "text/html": [
              "<div>\n",
              "<style scoped>\n",
              "    .dataframe tbody tr th:only-of-type {\n",
              "        vertical-align: middle;\n",
              "    }\n",
              "\n",
              "    .dataframe tbody tr th {\n",
              "        vertical-align: top;\n",
              "    }\n",
              "\n",
              "    .dataframe thead th {\n",
              "        text-align: right;\n",
              "    }\n",
              "</style>\n",
              "<table border=\"1\" class=\"dataframe\">\n",
              "  <thead>\n",
              "    <tr style=\"text-align: right;\">\n",
              "      <th></th>\n",
              "      <th>Brazil</th>\n",
              "    </tr>\n",
              "  </thead>\n",
              "  <tbody>\n",
              "    <tr>\n",
              "      <th>2010-01-01</th>\n",
              "      <td>2</td>\n",
              "    </tr>\n",
              "    <tr>\n",
              "      <th>2011-01-01</th>\n",
              "      <td>6</td>\n",
              "    </tr>\n",
              "    <tr>\n",
              "      <th>2012-01-01</th>\n",
              "      <td>7</td>\n",
              "    </tr>\n",
              "    <tr>\n",
              "      <th>2013-01-01</th>\n",
              "      <td>7</td>\n",
              "    </tr>\n",
              "    <tr>\n",
              "      <th>2014-01-01</th>\n",
              "      <td>7</td>\n",
              "    </tr>\n",
              "    <tr>\n",
              "      <th>2015-01-01</th>\n",
              "      <td>8</td>\n",
              "    </tr>\n",
              "    <tr>\n",
              "      <th>2016-01-01</th>\n",
              "      <td>10</td>\n",
              "    </tr>\n",
              "    <tr>\n",
              "      <th>2017-01-01</th>\n",
              "      <td>9</td>\n",
              "    </tr>\n",
              "    <tr>\n",
              "      <th>2018-01-01</th>\n",
              "      <td>10</td>\n",
              "    </tr>\n",
              "    <tr>\n",
              "      <th>2019-01-01</th>\n",
              "      <td>12</td>\n",
              "    </tr>\n",
              "    <tr>\n",
              "      <th>2020-01-01</th>\n",
              "      <td>11</td>\n",
              "    </tr>\n",
              "  </tbody>\n",
              "</table>\n",
              "</div>"
            ],
            "text/plain": [
              "            Brazil\n",
              "2010-01-01       2\n",
              "2011-01-01       6\n",
              "2012-01-01       7\n",
              "2013-01-01       7\n",
              "2014-01-01       7\n",
              "2015-01-01       8\n",
              "2016-01-01      10\n",
              "2017-01-01       9\n",
              "2018-01-01      10\n",
              "2019-01-01      12\n",
              "2020-01-01      11"
            ]
          },
          "metadata": {
            "tags": []
          },
          "execution_count": 14
        }
      ]
    },
    {
      "cell_type": "code",
      "metadata": {
        "id": "pbdWkQ6RqFnC",
        "colab_type": "code",
        "colab": {
          "base_uri": "https://localhost:8080/",
          "height": 34
        },
        "outputId": "24d3800d-0cc7-4987-e2ca-f973f77f37a5"
      },
      "source": [
        "len(df)"
      ],
      "execution_count": null,
      "outputs": [
        {
          "output_type": "execute_result",
          "data": {
            "text/plain": [
              "11"
            ]
          },
          "metadata": {
            "tags": []
          },
          "execution_count": 15
        }
      ]
    },
    {
      "cell_type": "code",
      "metadata": {
        "id": "jSrlR20eqg5Y",
        "colab_type": "code",
        "colab": {}
      },
      "source": [
        "train = df.iloc[:8]\n",
        "test = df.iloc[8:]"
      ],
      "execution_count": null,
      "outputs": []
    },
    {
      "cell_type": "code",
      "metadata": {
        "id": "e3FdKHED0RfJ",
        "colab_type": "code",
        "colab": {
          "base_uri": "https://localhost:8080/",
          "height": 297
        },
        "outputId": "dc8b96e6-fb4d-4493-8c5d-8370cf03ee1a"
      },
      "source": [
        "train"
      ],
      "execution_count": null,
      "outputs": [
        {
          "output_type": "execute_result",
          "data": {
            "text/html": [
              "<div>\n",
              "<style scoped>\n",
              "    .dataframe tbody tr th:only-of-type {\n",
              "        vertical-align: middle;\n",
              "    }\n",
              "\n",
              "    .dataframe tbody tr th {\n",
              "        vertical-align: top;\n",
              "    }\n",
              "\n",
              "    .dataframe thead th {\n",
              "        text-align: right;\n",
              "    }\n",
              "</style>\n",
              "<table border=\"1\" class=\"dataframe\">\n",
              "  <thead>\n",
              "    <tr style=\"text-align: right;\">\n",
              "      <th></th>\n",
              "      <th>Brazil</th>\n",
              "    </tr>\n",
              "  </thead>\n",
              "  <tbody>\n",
              "    <tr>\n",
              "      <th>2010-01-01</th>\n",
              "      <td>2</td>\n",
              "    </tr>\n",
              "    <tr>\n",
              "      <th>2011-01-01</th>\n",
              "      <td>6</td>\n",
              "    </tr>\n",
              "    <tr>\n",
              "      <th>2012-01-01</th>\n",
              "      <td>7</td>\n",
              "    </tr>\n",
              "    <tr>\n",
              "      <th>2013-01-01</th>\n",
              "      <td>7</td>\n",
              "    </tr>\n",
              "    <tr>\n",
              "      <th>2014-01-01</th>\n",
              "      <td>7</td>\n",
              "    </tr>\n",
              "    <tr>\n",
              "      <th>2015-01-01</th>\n",
              "      <td>8</td>\n",
              "    </tr>\n",
              "    <tr>\n",
              "      <th>2016-01-01</th>\n",
              "      <td>10</td>\n",
              "    </tr>\n",
              "    <tr>\n",
              "      <th>2017-01-01</th>\n",
              "      <td>9</td>\n",
              "    </tr>\n",
              "  </tbody>\n",
              "</table>\n",
              "</div>"
            ],
            "text/plain": [
              "            Brazil\n",
              "2010-01-01       2\n",
              "2011-01-01       6\n",
              "2012-01-01       7\n",
              "2013-01-01       7\n",
              "2014-01-01       7\n",
              "2015-01-01       8\n",
              "2016-01-01      10\n",
              "2017-01-01       9"
            ]
          },
          "metadata": {
            "tags": []
          },
          "execution_count": 17
        }
      ]
    },
    {
      "cell_type": "code",
      "metadata": {
        "id": "jCZ1QwW60fyf",
        "colab_type": "code",
        "colab": {
          "base_uri": "https://localhost:8080/",
          "height": 142
        },
        "outputId": "3c37f2ab-9e10-4eff-ba78-fed0b2615277"
      },
      "source": [
        "test"
      ],
      "execution_count": null,
      "outputs": [
        {
          "output_type": "execute_result",
          "data": {
            "text/html": [
              "<div>\n",
              "<style scoped>\n",
              "    .dataframe tbody tr th:only-of-type {\n",
              "        vertical-align: middle;\n",
              "    }\n",
              "\n",
              "    .dataframe tbody tr th {\n",
              "        vertical-align: top;\n",
              "    }\n",
              "\n",
              "    .dataframe thead th {\n",
              "        text-align: right;\n",
              "    }\n",
              "</style>\n",
              "<table border=\"1\" class=\"dataframe\">\n",
              "  <thead>\n",
              "    <tr style=\"text-align: right;\">\n",
              "      <th></th>\n",
              "      <th>Brazil</th>\n",
              "    </tr>\n",
              "  </thead>\n",
              "  <tbody>\n",
              "    <tr>\n",
              "      <th>2018-01-01</th>\n",
              "      <td>10</td>\n",
              "    </tr>\n",
              "    <tr>\n",
              "      <th>2019-01-01</th>\n",
              "      <td>12</td>\n",
              "    </tr>\n",
              "    <tr>\n",
              "      <th>2020-01-01</th>\n",
              "      <td>11</td>\n",
              "    </tr>\n",
              "  </tbody>\n",
              "</table>\n",
              "</div>"
            ],
            "text/plain": [
              "            Brazil\n",
              "2018-01-01      10\n",
              "2019-01-01      12\n",
              "2020-01-01      11"
            ]
          },
          "metadata": {
            "tags": []
          },
          "execution_count": 18
        }
      ]
    },
    {
      "cell_type": "markdown",
      "metadata": {
        "id": "h-Sy8hH7q7Mk",
        "colab_type": "text"
      },
      "source": [
        "## Scale the data"
      ]
    },
    {
      "cell_type": "code",
      "metadata": {
        "id": "P94jcCw2q5VB",
        "colab_type": "code",
        "colab": {}
      },
      "source": [
        "from sklearn.preprocessing import MinMaxScaler"
      ],
      "execution_count": null,
      "outputs": []
    },
    {
      "cell_type": "code",
      "metadata": {
        "id": "qnqpJ5Liq_Aq",
        "colab_type": "code",
        "colab": {}
      },
      "source": [
        "scaler = MinMaxScaler()"
      ],
      "execution_count": null,
      "outputs": []
    },
    {
      "cell_type": "code",
      "metadata": {
        "id": "KQI9PNOzrDPt",
        "colab_type": "code",
        "colab": {
          "base_uri": "https://localhost:8080/",
          "height": 34
        },
        "outputId": "d0fe870a-71a0-4320-bc69-a8efa1beccfd"
      },
      "source": [
        "scaler.fit(train)"
      ],
      "execution_count": null,
      "outputs": [
        {
          "output_type": "execute_result",
          "data": {
            "text/plain": [
              "MinMaxScaler(copy=True, feature_range=(0, 1))"
            ]
          },
          "metadata": {
            "tags": []
          },
          "execution_count": 21
        }
      ]
    },
    {
      "cell_type": "code",
      "metadata": {
        "id": "a7DKrUWLrDnZ",
        "colab_type": "code",
        "colab": {}
      },
      "source": [
        "scaled_train = scaler.transform(train)\n",
        "scaled_test = scaler.transform(test)"
      ],
      "execution_count": null,
      "outputs": []
    },
    {
      "cell_type": "markdown",
      "metadata": {
        "id": "guRbT4ISrIu3",
        "colab_type": "text"
      },
      "source": [
        "## Timeseries Generator"
      ]
    },
    {
      "cell_type": "code",
      "metadata": {
        "id": "_E8lzZnNrIM6",
        "colab_type": "code",
        "colab": {
          "base_uri": "https://localhost:8080/",
          "height": 34
        },
        "outputId": "e390cce7-28c6-4378-a3e9-e81dbcc81c60"
      },
      "source": [
        "from keras.preprocessing.sequence import TimeseriesGenerator"
      ],
      "execution_count": null,
      "outputs": [
        {
          "output_type": "stream",
          "text": [
            "Using TensorFlow backend.\n"
          ],
          "name": "stderr"
        }
      ]
    },
    {
      "cell_type": "code",
      "metadata": {
        "id": "3GBBUsPYrODO",
        "colab_type": "code",
        "colab": {}
      },
      "source": [
        "#Only one feature as this is a time series. \n",
        "\n",
        "#Going to run with 3 inputs due to limited size of the dataset\n",
        "#and use of own knowledge to how the WSL works. \n",
        "\n",
        "n_input = 3\n",
        "n_features = 1\n",
        "generator = TimeseriesGenerator(scaled_train, scaled_train, length=n_input, batch_size=1)"
      ],
      "execution_count": null,
      "outputs": []
    },
    {
      "cell_type": "markdown",
      "metadata": {
        "id": "QrxU3SJCsAnc",
        "colab_type": "text"
      },
      "source": [
        "## Build the model"
      ]
    },
    {
      "cell_type": "code",
      "metadata": {
        "id": "rkR41Ndar4Gn",
        "colab_type": "code",
        "colab": {}
      },
      "source": [
        "from keras.models import Sequential\n",
        "from keras.layers import Dense\n",
        "from keras.layers import LSTM"
      ],
      "execution_count": null,
      "outputs": []
    },
    {
      "cell_type": "code",
      "metadata": {
        "id": "BsC8zmy_tJIo",
        "colab_type": "code",
        "colab": {}
      },
      "source": [
        "#Going to use early stopping to obtain optimal performance from the model with an abitarially large number of epochs. \n",
        "#TensorBoard to be used to visualise the performance of the model. \n",
        "\n",
        "#from keras.callbacks import EarlyStopping,TensorBoard"
      ],
      "execution_count": null,
      "outputs": []
    },
    {
      "cell_type": "code",
      "metadata": {
        "id": "YlegzO_DtuJt",
        "colab_type": "code",
        "colab": {}
      },
      "source": [
        "#early_stop = EarlyStopping(monitor='val_loss', mode='min', verbose=1, patience=25)"
      ],
      "execution_count": null,
      "outputs": []
    },
    {
      "cell_type": "code",
      "metadata": {
        "id": "60O7FeNht9A1",
        "colab_type": "code",
        "colab": {}
      },
      "source": [
        "# Load the TensorBoard notebook extension\n",
        "#%load_ext tensorboard"
      ],
      "execution_count": null,
      "outputs": []
    },
    {
      "cell_type": "code",
      "metadata": {
        "id": "ukeFXHcyu9zF",
        "colab_type": "code",
        "colab": {}
      },
      "source": [
        "#import tensorflow as tf\n",
        "#import datetime"
      ],
      "execution_count": null,
      "outputs": []
    },
    {
      "cell_type": "code",
      "metadata": {
        "id": "NkilkXwMvcao",
        "colab_type": "code",
        "colab": {}
      },
      "source": [
        "# Clear any logs from previous runs\n",
        "#!rm -rf ./logs/ "
      ],
      "execution_count": null,
      "outputs": []
    },
    {
      "cell_type": "code",
      "metadata": {
        "id": "5kpwHnybvhPq",
        "colab_type": "code",
        "colab": {}
      },
      "source": [
        "#log_dir = \"logs/fit/\" + datetime.datetime.now().strftime(\"%Y%m%d-%H%M%S\")\n",
        "#tensorboard_callback = tf.keras.callbacks.TensorBoard(log_dir=log_dir, histogram_freq=1)\n"
      ],
      "execution_count": null,
      "outputs": []
    },
    {
      "cell_type": "code",
      "metadata": {
        "id": "8N-WsZ8fsOFp",
        "colab_type": "code",
        "colab": {}
      },
      "source": [
        "#Using ReLU activation function and an adam optimiser as these are proven to work well with time series data.\n",
        "\n",
        "model = Sequential()\n",
        "model.add(LSTM(100, activation='relu',input_shape=(n_input,n_features)))\n",
        "model.add(Dense(1))\n",
        "model.compile(optimizer='adam',loss='mse')"
      ],
      "execution_count": null,
      "outputs": []
    },
    {
      "cell_type": "markdown",
      "metadata": {
        "id": "f3h-LwW5v4cM",
        "colab_type": "text"
      },
      "source": [
        "## Fit the model"
      ]
    },
    {
      "cell_type": "code",
      "metadata": {
        "id": "u7lNbIsHsuHB",
        "colab_type": "code",
        "colab": {
          "base_uri": "https://localhost:8080/"
        },
        "outputId": "07a7e9a1-d874-4c43-a3ab-9c05a2546151"
      },
      "source": [
        "model.fit_generator(generator,epochs=25)"
      ],
      "execution_count": null,
      "outputs": [
        {
          "output_type": "stream",
          "text": [
            "Epoch 1/25\n",
            "5/5 [==============================] - 2s 391ms/step - loss: 0.4745\n",
            "Epoch 2/25\n",
            "5/5 [==============================] - 0s 17ms/step - loss: 0.4093\n",
            "Epoch 3/25\n",
            "5/5 [==============================] - 0s 11ms/step - loss: 0.3457\n",
            "Epoch 4/25\n",
            "5/5 [==============================] - 0s 12ms/step - loss: 0.2711\n",
            "Epoch 5/25\n",
            "5/5 [==============================] - 0s 12ms/step - loss: 0.2051\n",
            "Epoch 6/25\n",
            "5/5 [==============================] - 0s 14ms/step - loss: 0.1461\n",
            "Epoch 7/25\n",
            "5/5 [==============================] - 0s 13ms/step - loss: 0.0797\n",
            "Epoch 8/25\n",
            "5/5 [==============================] - 0s 12ms/step - loss: 0.0369\n",
            "Epoch 9/25\n",
            "5/5 [==============================] - 0s 14ms/step - loss: 0.0211\n",
            "Epoch 10/25\n",
            "5/5 [==============================] - 0s 12ms/step - loss: 0.0105\n",
            "Epoch 11/25\n",
            "5/5 [==============================] - 0s 12ms/step - loss: 0.0153\n",
            "Epoch 12/25\n",
            "5/5 [==============================] - 0s 13ms/step - loss: 0.0159\n",
            "Epoch 13/25\n",
            "5/5 [==============================] - 0s 11ms/step - loss: 0.0136\n",
            "Epoch 14/25\n",
            "5/5 [==============================] - 0s 12ms/step - loss: 0.0115\n",
            "Epoch 15/25\n",
            "5/5 [==============================] - 0s 11ms/step - loss: 0.0114\n",
            "Epoch 16/25\n",
            "5/5 [==============================] - 0s 14ms/step - loss: 0.0115\n",
            "Epoch 17/25\n",
            "5/5 [==============================] - 0s 14ms/step - loss: 0.0118\n",
            "Epoch 18/25\n",
            "5/5 [==============================] - 0s 13ms/step - loss: 0.0118\n",
            "Epoch 19/25\n",
            "5/5 [==============================] - 0s 13ms/step - loss: 0.0112\n",
            "Epoch 20/25\n",
            "5/5 [==============================] - 0s 13ms/step - loss: 0.0111\n",
            "Epoch 21/25\n",
            "5/5 [==============================] - 0s 12ms/step - loss: 0.0112\n",
            "Epoch 22/25\n",
            "5/5 [==============================] - 0s 12ms/step - loss: 0.0113\n",
            "Epoch 23/25\n",
            "5/5 [==============================] - 0s 16ms/step - loss: 0.0118\n",
            "Epoch 24/25\n",
            "5/5 [==============================] - 0s 13ms/step - loss: 0.0117\n",
            "Epoch 25/25\n",
            "5/5 [==============================] - 0s 13ms/step - loss: 0.0112\n"
          ],
          "name": "stdout"
        },
        {
          "output_type": "execute_result",
          "data": {
            "text/plain": [
              "<keras.callbacks.callbacks.History at 0x7f9b3f0e4b00>"
            ]
          },
          "metadata": {
            "tags": []
          },
          "execution_count": 33
        }
      ]
    },
    {
      "cell_type": "markdown",
      "metadata": {
        "id": "hA7ZBnRU0uaO",
        "colab_type": "text"
      },
      "source": [
        "## Plot the loss"
      ]
    },
    {
      "cell_type": "code",
      "metadata": {
        "id": "DxUs8zuvWzDI",
        "colab_type": "code",
        "colab": {}
      },
      "source": [
        "import matplotlib.pyplot as plt "
      ],
      "execution_count": null,
      "outputs": []
    },
    {
      "cell_type": "code",
      "metadata": {
        "id": "bHQ5kBrWwh5Z",
        "colab_type": "code",
        "colab": {
          "base_uri": "https://localhost:8080/",
          "height": 279
        },
        "outputId": "3bc4582a-de1f-4975-ed80-39ac2e5ab528"
      },
      "source": [
        "plt.plot(range(len(model.history.history['loss'])), model.history.history['loss'])\n",
        "\n",
        "plt.xlabel('Epochs')\n",
        "plt.ylabel('Loss')\n",
        "\n",
        "plt.savefig('training_loss.jpeg')"
      ],
      "execution_count": null,
      "outputs": [
        {
          "output_type": "display_data",
          "data": {
            "image/png": "[encoded data removed]",
            "text/plain": [
              "<Figure size 432x288 with 1 Axes>"
            ]
          },
          "metadata": {
            "tags": [],
            "needs_background": "light"
          }
        }
      ]
    },
    {
      "cell_type": "markdown",
      "metadata": {
        "id": "MnOvpxv204Cv",
        "colab_type": "text"
      },
      "source": [
        "## Evaluate the test data"
      ]
    },
    {
      "cell_type": "code",
      "metadata": {
        "id": "F84sVkWM0xEr",
        "colab_type": "code",
        "colab": {
          "base_uri": "https://localhost:8080/"
        },
        "outputId": "5ac3feb8-5042-449a-e99e-d80acb9171fe"
      },
      "source": [
        "first_eval_batch = scaled_train[-3:]\n",
        "first_eval_batch"
      ],
      "execution_count": null,
      "outputs": [
        {
          "output_type": "execute_result",
          "data": {
            "text/plain": [
              "array([[0.75 ],\n",
              "       [1.   ],\n",
              "       [0.875]])"
            ]
          },
          "metadata": {
            "tags": []
          },
          "execution_count": 36
        }
      ]
    },
    {
      "cell_type": "code",
      "metadata": {
        "id": "eH6sGwHl1ZIb",
        "colab_type": "code",
        "colab": {}
      },
      "source": [
        "first_eval_batch = first_eval_batch.reshape((1,n_input,n_features))"
      ],
      "execution_count": null,
      "outputs": []
    },
    {
      "cell_type": "code",
      "metadata": {
        "id": "UPk4gyeX1ax0",
        "colab_type": "code",
        "colab": {
          "base_uri": "https://localhost:8080/"
        },
        "outputId": "6b535005-1540-4fef-93ea-1351781ccba4"
      },
      "source": [
        "model.predict(first_eval_batch)"
      ],
      "execution_count": null,
      "outputs": [
        {
          "output_type": "execute_result",
          "data": {
            "text/plain": [
              "array([[1.0123347]], dtype=float32)"
            ]
          },
          "metadata": {
            "tags": []
          },
          "execution_count": 38
        }
      ]
    },
    {
      "cell_type": "code",
      "metadata": {
        "id": "53M_lCto1nBU",
        "colab_type": "code",
        "colab": {
          "base_uri": "https://localhost:8080/"
        },
        "outputId": "d61e78da-10e7-4ba9-8a2a-860bb27bab1b"
      },
      "source": [
        "scaled_test[0]"
      ],
      "execution_count": null,
      "outputs": [
        {
          "output_type": "execute_result",
          "data": {
            "text/plain": [
              "array([1.])"
            ]
          },
          "metadata": {
            "tags": []
          },
          "execution_count": 39
        }
      ]
    },
    {
      "cell_type": "markdown",
      "metadata": {
        "id": "O0rxmNks1vO8",
        "colab_type": "text"
      },
      "source": [
        "## Forecasting using an RNN model"
      ]
    },
    {
      "cell_type": "code",
      "metadata": {
        "id": "qr3tUP0K1rTh",
        "colab_type": "code",
        "colab": {}
      },
      "source": [
        "test_predictions = []\n",
        "\n",
        "first_eval_batch = scaled_train[-n_input:]\n",
        "current_batch = first_eval_batch.reshape((1,n_input,n_features))\n",
        "\n",
        "#Forecast the length of the test set\n",
        "\n",
        "for i in range(len(test)):\n",
        "  #One timestep ahead of current twelve points\n",
        "  current_pred = model.predict(current_batch)[0]\n",
        "  #Store the prediction\n",
        "  test_predictions.append(current_pred)\n",
        "  #Update the current batch to include the prediction\n",
        "  current_batch = np.append(current_batch[:,1:,:],[[current_pred]],axis=1)\n"
      ],
      "execution_count": null,
      "outputs": []
    },
    {
      "cell_type": "code",
      "metadata": {
        "id": "cA_k0Cx41_SG",
        "colab_type": "code",
        "colab": {
          "base_uri": "https://localhost:8080/"
        },
        "outputId": "07a2c40a-ee01-42f4-a9b4-d81f961850ea"
      },
      "source": [
        "#Test predictions scaled values\n",
        "test_predictions"
      ],
      "execution_count": null,
      "outputs": [
        {
          "output_type": "execute_result",
          "data": {
            "text/plain": [
              "[array([1.0123347], dtype=float32),\n",
              " array([1.1043744], dtype=float32),\n",
              " array([1.1242211], dtype=float32)]"
            ]
          },
          "metadata": {
            "tags": []
          },
          "execution_count": 41
        }
      ]
    },
    {
      "cell_type": "code",
      "metadata": {
        "id": "K4hnn9uG2EBB",
        "colab_type": "code",
        "colab": {}
      },
      "source": [
        "#Reverse the transformation for interpretation\n",
        "\n",
        "true_predictions = scaler.inverse_transform(test_predictions)"
      ],
      "execution_count": null,
      "outputs": []
    },
    {
      "cell_type": "code",
      "metadata": {
        "id": "ETKdPynd2GwK",
        "colab_type": "code",
        "colab": {
          "base_uri": "https://localhost:8080/"
        },
        "outputId": "d6c873c8-df45-4067-9736-34b8a0b71889"
      },
      "source": [
        "true_predictions"
      ],
      "execution_count": null,
      "outputs": [
        {
          "output_type": "execute_result",
          "data": {
            "text/plain": [
              "array([[10.09867764],\n",
              "       [10.83499527],\n",
              "       [10.99376869]])"
            ]
          },
          "metadata": {
            "tags": []
          },
          "execution_count": 43
        }
      ]
    },
    {
      "cell_type": "code",
      "metadata": {
        "id": "vW-mRoA02Izn",
        "colab_type": "code",
        "colab": {
          "base_uri": "https://localhost:8080/"
        },
        "outputId": "10085a1f-69f9-4ad6-cb9f-88d67e88b7dd"
      },
      "source": [
        "#Add the predictions to the test dataframe\n",
        "\n",
        "test['Predictions'] = true_predictions\n",
        "\n",
        "test"
      ],
      "execution_count": null,
      "outputs": [
        {
          "output_type": "stream",
          "text": [
            "/usr/local/lib/python3.6/dist-packages/ipykernel_launcher.py:3: SettingWithCopyWarning: \n",
            "A value is trying to be set on a copy of a slice from a DataFrame.\n",
            "Try using .loc[row_indexer,col_indexer] = value instead\n",
            "\n",
            "See the caveats in the documentation: https://pandas.pydata.org/pandas-docs/stable/user_guide/indexing.html#returning-a-view-versus-a-copy\n",
            "  This is separate from the ipykernel package so we can avoid doing imports until\n"
          ],
          "name": "stderr"
        },
        {
          "output_type": "execute_result",
          "data": {
            "text/html": [
              "<div>\n",
              "<style scoped>\n",
              "    .dataframe tbody tr th:only-of-type {\n",
              "        vertical-align: middle;\n",
              "    }\n",
              "\n",
              "    .dataframe tbody tr th {\n",
              "        vertical-align: top;\n",
              "    }\n",
              "\n",
              "    .dataframe thead th {\n",
              "        text-align: right;\n",
              "    }\n",
              "</style>\n",
              "<table border=\"1\" class=\"dataframe\">\n",
              "  <thead>\n",
              "    <tr style=\"text-align: right;\">\n",
              "      <th></th>\n",
              "      <th>Brazil</th>\n",
              "      <th>Predictions</th>\n",
              "    </tr>\n",
              "  </thead>\n",
              "  <tbody>\n",
              "    <tr>\n",
              "      <th>2018-01-01</th>\n",
              "      <td>10</td>\n",
              "      <td>10.098678</td>\n",
              "    </tr>\n",
              "    <tr>\n",
              "      <th>2019-01-01</th>\n",
              "      <td>12</td>\n",
              "      <td>10.834995</td>\n",
              "    </tr>\n",
              "    <tr>\n",
              "      <th>2020-01-01</th>\n",
              "      <td>11</td>\n",
              "      <td>10.993769</td>\n",
              "    </tr>\n",
              "  </tbody>\n",
              "</table>\n",
              "</div>"
            ],
            "text/plain": [
              "            Brazil  Predictions\n",
              "2018-01-01      10    10.098678\n",
              "2019-01-01      12    10.834995\n",
              "2020-01-01      11    10.993769"
            ]
          },
          "metadata": {
            "tags": []
          },
          "execution_count": 44
        }
      ]
    },
    {
      "cell_type": "code",
      "metadata": {
        "id": "UyftsrHK2QDY",
        "colab_type": "code",
        "colab": {
          "base_uri": "https://localhost:8080/"
        },
        "outputId": "a289002d-590f-4305-9970-7356aa706901"
      },
      "source": [
        "test.plot(figsize=(12,8))"
      ],
      "execution_count": null,
      "outputs": [
        {
          "output_type": "execute_result",
          "data": {
            "text/plain": [
              "<matplotlib.axes._subplots.AxesSubplot at 0x7f9b3f0e4a20>"
            ]
          },
          "metadata": {
            "tags": []
          },
          "execution_count": 45
        },
        {
          "output_type": "display_data",
          "data": {
            "image/png": "[encoded data removed]",
            "text/plain": [
              "<Figure size 864x576 with 1 Axes>"
            ]
          },
          "metadata": {
            "tags": [],
            "needs_background": "light"
          }
        }
      ]
    },
    {
      "cell_type": "markdown",
      "metadata": {
        "id": "7DGdUBoT_vDL",
        "colab_type": "text"
      },
      "source": [
        "## Now to forecast into the future\n",
        "\n",
        "Extend the predictions to twice the length of the test set. "
      ]
    },
    {
      "cell_type": "code",
      "metadata": {
        "id": "6CnxgAci_sxH",
        "colab_type": "code",
        "colab": {}
      },
      "source": [
        "test_predictions = []\n",
        "\n",
        "first_eval_batch = scaled_train[-n_input:]\n",
        "current_batch = first_eval_batch.reshape((1,n_input,n_features))\n",
        "\n",
        "#Forecast double the length of the test set\n",
        "\n",
        "for i in range(len(test)*2):\n",
        "  #One timestep ahead of current twelve points\n",
        "  current_pred = model.predict(current_batch)[0]\n",
        "  #Store the prediction\n",
        "  test_predictions.append(current_pred)\n",
        "  #Update the current batch to include the prediction\n",
        "  current_batch = np.append(current_batch[:,1:,:],[[current_pred]],axis=1)\n"
      ],
      "execution_count": null,
      "outputs": []
    },
    {
      "cell_type": "code",
      "metadata": {
        "id": "pUgIlJJ2BgyE",
        "colab_type": "code",
        "colab": {
          "base_uri": "https://localhost:8080/"
        },
        "outputId": "a152cbf1-68c4-4fd9-a21e-87c483a1897a"
      },
      "source": [
        "#Test predictions scaled values\n",
        "test_predictions"
      ],
      "execution_count": null,
      "outputs": [
        {
          "output_type": "execute_result",
          "data": {
            "text/plain": [
              "[array([1.0123347], dtype=float32),\n",
              " array([1.1043744], dtype=float32),\n",
              " array([1.1242211], dtype=float32),\n",
              " array([1.2136924], dtype=float32),\n",
              " array([1.2828269], dtype=float32),\n",
              " array([1.3412402], dtype=float32)]"
            ]
          },
          "metadata": {
            "tags": []
          },
          "execution_count": 47
        }
      ]
    },
    {
      "cell_type": "code",
      "metadata": {
        "id": "NTlxFsSaBk_B",
        "colab_type": "code",
        "colab": {
          "base_uri": "https://localhost:8080/"
        },
        "outputId": "0aed7d01-cc4b-4773-aeb3-13fefd77237e"
      },
      "source": [
        "#Reverse the transformation for interpretation\n",
        "\n",
        "true_predictions = scaler.inverse_transform(test_predictions)\n",
        "true_predictions\n"
      ],
      "execution_count": null,
      "outputs": [
        {
          "output_type": "execute_result",
          "data": {
            "text/plain": [
              "array([[10.09867764],\n",
              "       [10.83499527],\n",
              "       [10.99376869],\n",
              "       [11.70953941],\n",
              "       [12.2626152 ],\n",
              "       [12.72992134]])"
            ]
          },
          "metadata": {
            "tags": []
          },
          "execution_count": 48
        }
      ]
    },
    {
      "cell_type": "code",
      "metadata": {
        "id": "E2okEQtzBqNG",
        "colab_type": "code",
        "colab": {
          "base_uri": "https://localhost:8080/"
        },
        "outputId": "e71930d6-f327-4aed-c493-29f7ca1baee9"
      },
      "source": [
        "test"
      ],
      "execution_count": null,
      "outputs": [
        {
          "output_type": "execute_result",
          "data": {
            "text/html": [
              "<div>\n",
              "<style scoped>\n",
              "    .dataframe tbody tr th:only-of-type {\n",
              "        vertical-align: middle;\n",
              "    }\n",
              "\n",
              "    .dataframe tbody tr th {\n",
              "        vertical-align: top;\n",
              "    }\n",
              "\n",
              "    .dataframe thead th {\n",
              "        text-align: right;\n",
              "    }\n",
              "</style>\n",
              "<table border=\"1\" class=\"dataframe\">\n",
              "  <thead>\n",
              "    <tr style=\"text-align: right;\">\n",
              "      <th></th>\n",
              "      <th>Brazil</th>\n",
              "      <th>Predictions</th>\n",
              "    </tr>\n",
              "  </thead>\n",
              "  <tbody>\n",
              "    <tr>\n",
              "      <th>2018-01-01</th>\n",
              "      <td>10</td>\n",
              "      <td>10.098678</td>\n",
              "    </tr>\n",
              "    <tr>\n",
              "      <th>2019-01-01</th>\n",
              "      <td>12</td>\n",
              "      <td>10.834995</td>\n",
              "    </tr>\n",
              "    <tr>\n",
              "      <th>2020-01-01</th>\n",
              "      <td>11</td>\n",
              "      <td>10.993769</td>\n",
              "    </tr>\n",
              "  </tbody>\n",
              "</table>\n",
              "</div>"
            ],
            "text/plain": [
              "            Brazil  Predictions\n",
              "2018-01-01      10    10.098678\n",
              "2019-01-01      12    10.834995\n",
              "2020-01-01      11    10.993769"
            ]
          },
          "metadata": {
            "tags": []
          },
          "execution_count": 49
        }
      ]
    },
    {
      "cell_type": "code",
      "metadata": {
        "id": "cTsnp-QoB4-_",
        "colab_type": "code",
        "colab": {}
      },
      "source": [
        "index = pd.date_range('2018-01-01', periods=6, freq='AS')\n",
        "\n",
        "test = test.reindex(index)\n"
      ],
      "execution_count": null,
      "outputs": []
    },
    {
      "cell_type": "code",
      "metadata": {
        "id": "uYLJ2zHHJYlZ",
        "colab_type": "code",
        "colab": {
          "base_uri": "https://localhost:8080/"
        },
        "outputId": "ac557541-5eac-452a-8f7f-516d593ad3ca"
      },
      "source": [
        "test"
      ],
      "execution_count": null,
      "outputs": [
        {
          "output_type": "execute_result",
          "data": {
            "text/html": [
              "<div>\n",
              "<style scoped>\n",
              "    .dataframe tbody tr th:only-of-type {\n",
              "        vertical-align: middle;\n",
              "    }\n",
              "\n",
              "    .dataframe tbody tr th {\n",
              "        vertical-align: top;\n",
              "    }\n",
              "\n",
              "    .dataframe thead th {\n",
              "        text-align: right;\n",
              "    }\n",
              "</style>\n",
              "<table border=\"1\" class=\"dataframe\">\n",
              "  <thead>\n",
              "    <tr style=\"text-align: right;\">\n",
              "      <th></th>\n",
              "      <th>Brazil</th>\n",
              "      <th>Predictions</th>\n",
              "    </tr>\n",
              "  </thead>\n",
              "  <tbody>\n",
              "    <tr>\n",
              "      <th>2018-01-01</th>\n",
              "      <td>10.0</td>\n",
              "      <td>10.098678</td>\n",
              "    </tr>\n",
              "    <tr>\n",
              "      <th>2019-01-01</th>\n",
              "      <td>12.0</td>\n",
              "      <td>10.834995</td>\n",
              "    </tr>\n",
              "    <tr>\n",
              "      <th>2020-01-01</th>\n",
              "      <td>11.0</td>\n",
              "      <td>10.993769</td>\n",
              "    </tr>\n",
              "    <tr>\n",
              "      <th>2021-01-01</th>\n",
              "      <td>NaN</td>\n",
              "      <td>NaN</td>\n",
              "    </tr>\n",
              "    <tr>\n",
              "      <th>2022-01-01</th>\n",
              "      <td>NaN</td>\n",
              "      <td>NaN</td>\n",
              "    </tr>\n",
              "    <tr>\n",
              "      <th>2023-01-01</th>\n",
              "      <td>NaN</td>\n",
              "      <td>NaN</td>\n",
              "    </tr>\n",
              "  </tbody>\n",
              "</table>\n",
              "</div>"
            ],
            "text/plain": [
              "            Brazil  Predictions\n",
              "2018-01-01    10.0    10.098678\n",
              "2019-01-01    12.0    10.834995\n",
              "2020-01-01    11.0    10.993769\n",
              "2021-01-01     NaN          NaN\n",
              "2022-01-01     NaN          NaN\n",
              "2023-01-01     NaN          NaN"
            ]
          },
          "metadata": {
            "tags": []
          },
          "execution_count": 51
        }
      ]
    },
    {
      "cell_type": "code",
      "metadata": {
        "id": "7ZeM2_cyLCEK",
        "colab_type": "code",
        "colab": {}
      },
      "source": [
        "#Add the predictions to the test dataframe\n",
        "\n",
        "test['Predictions'] = true_predictions"
      ],
      "execution_count": null,
      "outputs": []
    },
    {
      "cell_type": "code",
      "metadata": {
        "id": "rUMGDTw-LJ2o",
        "colab_type": "code",
        "colab": {
          "base_uri": "https://localhost:8080/"
        },
        "outputId": "dc9cf314-73a8-41bc-8a05-cd06a131a97d"
      },
      "source": [
        "test"
      ],
      "execution_count": null,
      "outputs": [
        {
          "output_type": "execute_result",
          "data": {
            "text/html": [
              "<div>\n",
              "<style scoped>\n",
              "    .dataframe tbody tr th:only-of-type {\n",
              "        vertical-align: middle;\n",
              "    }\n",
              "\n",
              "    .dataframe tbody tr th {\n",
              "        vertical-align: top;\n",
              "    }\n",
              "\n",
              "    .dataframe thead th {\n",
              "        text-align: right;\n",
              "    }\n",
              "</style>\n",
              "<table border=\"1\" class=\"dataframe\">\n",
              "  <thead>\n",
              "    <tr style=\"text-align: right;\">\n",
              "      <th></th>\n",
              "      <th>Brazil</th>\n",
              "      <th>Predictions</th>\n",
              "    </tr>\n",
              "  </thead>\n",
              "  <tbody>\n",
              "    <tr>\n",
              "      <th>2018-01-01</th>\n",
              "      <td>10.0</td>\n",
              "      <td>10.098678</td>\n",
              "    </tr>\n",
              "    <tr>\n",
              "      <th>2019-01-01</th>\n",
              "      <td>12.0</td>\n",
              "      <td>10.834995</td>\n",
              "    </tr>\n",
              "    <tr>\n",
              "      <th>2020-01-01</th>\n",
              "      <td>11.0</td>\n",
              "      <td>10.993769</td>\n",
              "    </tr>\n",
              "    <tr>\n",
              "      <th>2021-01-01</th>\n",
              "      <td>NaN</td>\n",
              "      <td>11.709539</td>\n",
              "    </tr>\n",
              "    <tr>\n",
              "      <th>2022-01-01</th>\n",
              "      <td>NaN</td>\n",
              "      <td>12.262615</td>\n",
              "    </tr>\n",
              "    <tr>\n",
              "      <th>2023-01-01</th>\n",
              "      <td>NaN</td>\n",
              "      <td>12.729921</td>\n",
              "    </tr>\n",
              "  </tbody>\n",
              "</table>\n",
              "</div>"
            ],
            "text/plain": [
              "            Brazil  Predictions\n",
              "2018-01-01    10.0    10.098678\n",
              "2019-01-01    12.0    10.834995\n",
              "2020-01-01    11.0    10.993769\n",
              "2021-01-01     NaN    11.709539\n",
              "2022-01-01     NaN    12.262615\n",
              "2023-01-01     NaN    12.729921"
            ]
          },
          "metadata": {
            "tags": []
          },
          "execution_count": 53
        }
      ]
    },
    {
      "cell_type": "code",
      "metadata": {
        "id": "Dlc6KzvJLKw_",
        "colab_type": "code",
        "colab": {
          "base_uri": "https://localhost:8080/"
        },
        "outputId": "862c9de8-34ba-442a-ed18-cf92ba321634"
      },
      "source": [
        "test.plot()"
      ],
      "execution_count": null,
      "outputs": [
        {
          "output_type": "execute_result",
          "data": {
            "text/plain": [
              "<matplotlib.axes._subplots.AxesSubplot at 0x7f9ae7c815f8>"
            ]
          },
          "metadata": {
            "tags": []
          },
          "execution_count": 54
        },
        {
          "output_type": "display_data",
          "data": {
            "image/png": "[encoded data removed]",
            "text/plain": [
              "<Figure size 432x288 with 1 Axes>"
            ]
          },
          "metadata": {
            "tags": [],
            "needs_background": "light"
          }
        }
      ]
    },
    {
      "cell_type": "markdown",
      "metadata": {
        "id": "HUN8NvlDLbaa",
        "colab_type": "text"
      },
      "source": [
        "Show a continued increse in the amount of Brazilian surfers in the mens CT. "
      ]
    },
    {
      "cell_type": "markdown",
      "metadata": {
        "id": "XPsabnujLzSV",
        "colab_type": "text"
      },
      "source": [
        "## Time to retrain the model on the whole dataset"
      ]
    },
    {
      "cell_type": "code",
      "metadata": {
        "id": "o5ZSb2CiLsmn",
        "colab_type": "code",
        "colab": {
          "base_uri": "https://localhost:8080/"
        },
        "outputId": "951cb79e-eb0b-472c-cc63-94660159f212"
      },
      "source": [
        "df"
      ],
      "execution_count": null,
      "outputs": [
        {
          "output_type": "execute_result",
          "data": {
            "text/html": [
              "<div>\n",
              "<style scoped>\n",
              "    .dataframe tbody tr th:only-of-type {\n",
              "        vertical-align: middle;\n",
              "    }\n",
              "\n",
              "    .dataframe tbody tr th {\n",
              "        vertical-align: top;\n",
              "    }\n",
              "\n",
              "    .dataframe thead th {\n",
              "        text-align: right;\n",
              "    }\n",
              "</style>\n",
              "<table border=\"1\" class=\"dataframe\">\n",
              "  <thead>\n",
              "    <tr style=\"text-align: right;\">\n",
              "      <th></th>\n",
              "      <th>Brazil</th>\n",
              "    </tr>\n",
              "  </thead>\n",
              "  <tbody>\n",
              "    <tr>\n",
              "      <th>2010-01-01</th>\n",
              "      <td>2</td>\n",
              "    </tr>\n",
              "    <tr>\n",
              "      <th>2011-01-01</th>\n",
              "      <td>6</td>\n",
              "    </tr>\n",
              "    <tr>\n",
              "      <th>2012-01-01</th>\n",
              "      <td>7</td>\n",
              "    </tr>\n",
              "    <tr>\n",
              "      <th>2013-01-01</th>\n",
              "      <td>7</td>\n",
              "    </tr>\n",
              "    <tr>\n",
              "      <th>2014-01-01</th>\n",
              "      <td>7</td>\n",
              "    </tr>\n",
              "    <tr>\n",
              "      <th>2015-01-01</th>\n",
              "      <td>8</td>\n",
              "    </tr>\n",
              "    <tr>\n",
              "      <th>2016-01-01</th>\n",
              "      <td>10</td>\n",
              "    </tr>\n",
              "    <tr>\n",
              "      <th>2017-01-01</th>\n",
              "      <td>9</td>\n",
              "    </tr>\n",
              "    <tr>\n",
              "      <th>2018-01-01</th>\n",
              "      <td>10</td>\n",
              "    </tr>\n",
              "    <tr>\n",
              "      <th>2019-01-01</th>\n",
              "      <td>12</td>\n",
              "    </tr>\n",
              "    <tr>\n",
              "      <th>2020-01-01</th>\n",
              "      <td>11</td>\n",
              "    </tr>\n",
              "  </tbody>\n",
              "</table>\n",
              "</div>"
            ],
            "text/plain": [
              "            Brazil\n",
              "2010-01-01       2\n",
              "2011-01-01       6\n",
              "2012-01-01       7\n",
              "2013-01-01       7\n",
              "2014-01-01       7\n",
              "2015-01-01       8\n",
              "2016-01-01      10\n",
              "2017-01-01       9\n",
              "2018-01-01      10\n",
              "2019-01-01      12\n",
              "2020-01-01      11"
            ]
          },
          "metadata": {
            "tags": []
          },
          "execution_count": 55
        }
      ]
    },
    {
      "cell_type": "markdown",
      "metadata": {
        "colab_type": "text",
        "id": "E7FOgrtNMQ1c"
      },
      "source": [
        "## Scale the data"
      ]
    },
    {
      "cell_type": "code",
      "metadata": {
        "colab_type": "code",
        "id": "XVTLYdYtMQ1e",
        "colab": {}
      },
      "source": [
        "from sklearn.preprocessing import MinMaxScaler"
      ],
      "execution_count": null,
      "outputs": []
    },
    {
      "cell_type": "code",
      "metadata": {
        "colab_type": "code",
        "id": "1_pv0JdvMQ1k",
        "colab": {}
      },
      "source": [
        "scaler = MinMaxScaler()"
      ],
      "execution_count": null,
      "outputs": []
    },
    {
      "cell_type": "code",
      "metadata": {
        "colab_type": "code",
        "id": "YOufaWEdMQ1o",
        "colab": {
          "base_uri": "https://localhost:8080/"
        },
        "outputId": "4cf20cf9-9787-49db-c43e-f0b0838b9dea"
      },
      "source": [
        "scaler.fit(df)"
      ],
      "execution_count": null,
      "outputs": [
        {
          "output_type": "execute_result",
          "data": {
            "text/plain": [
              "MinMaxScaler(copy=True, feature_range=(0, 1))"
            ]
          },
          "metadata": {
            "tags": []
          },
          "execution_count": 58
        }
      ]
    },
    {
      "cell_type": "code",
      "metadata": {
        "colab_type": "code",
        "id": "ykQlqoQNMQ1t",
        "colab": {}
      },
      "source": [
        "scaled_df = scaler.transform(df)"
      ],
      "execution_count": null,
      "outputs": []
    },
    {
      "cell_type": "markdown",
      "metadata": {
        "colab_type": "text",
        "id": "HVJIbkr9Mnv7"
      },
      "source": [
        "## Timeseries Generator"
      ]
    },
    {
      "cell_type": "code",
      "metadata": {
        "colab_type": "code",
        "id": "OE12Hiv9Mnv8",
        "colab": {}
      },
      "source": [
        "from keras.preprocessing.sequence import TimeseriesGenerator"
      ],
      "execution_count": null,
      "outputs": []
    },
    {
      "cell_type": "code",
      "metadata": {
        "colab_type": "code",
        "id": "w_L7J8tCMnwC",
        "colab": {}
      },
      "source": [
        "#Only one feature as this is a time series. \n",
        "\n",
        "#Going to run with 3 inputs due to limited size of the dataset\n",
        "#and use of own knowledge to how the WSL works. \n",
        "\n",
        "n_input = 3\n",
        "n_features = 1\n",
        "generator = TimeseriesGenerator(scaled_df, scaled_df, length=n_input, batch_size=1)"
      ],
      "execution_count": null,
      "outputs": []
    },
    {
      "cell_type": "code",
      "metadata": {
        "colab_type": "code",
        "id": "b2hlM_2jNJbL",
        "colab": {}
      },
      "source": [
        "#Using ReLU activation function and an adam optimiser as these are proven to work well with time series data.\n",
        "\n",
        "model = Sequential()\n",
        "model.add(LSTM(100, activation='relu',input_shape=(n_input,n_features)))\n",
        "model.add(Dense(1))\n",
        "model.compile(optimizer='adam',loss='mse')"
      ],
      "execution_count": null,
      "outputs": []
    },
    {
      "cell_type": "markdown",
      "metadata": {
        "colab_type": "text",
        "id": "_3RALo3aNJbQ"
      },
      "source": [
        "## Fit the model"
      ]
    },
    {
      "cell_type": "code",
      "metadata": {
        "colab_type": "code",
        "id": "CHmHIoSqNJbS",
        "colab": {
          "base_uri": "https://localhost:8080/"
        },
        "outputId": "3d389f9d-b907-4dae-c43e-c8ae628117ab"
      },
      "source": [
        "model.fit_generator(generator,epochs=25)"
      ],
      "execution_count": null,
      "outputs": [
        {
          "output_type": "stream",
          "text": [
            "Epoch 1/25\n",
            "8/8 [==============================] - 0s 51ms/step - loss: 0.5113\n",
            "Epoch 2/25\n",
            "8/8 [==============================] - 0s 13ms/step - loss: 0.4376\n",
            "Epoch 3/25\n",
            "8/8 [==============================] - 0s 14ms/step - loss: 0.3732\n",
            "Epoch 4/25\n",
            "8/8 [==============================] - 0s 15ms/step - loss: 0.3111\n",
            "Epoch 5/25\n",
            "8/8 [==============================] - 0s 13ms/step - loss: 0.2409\n",
            "Epoch 6/25\n",
            "8/8 [==============================] - 0s 12ms/step - loss: 0.1721\n",
            "Epoch 7/25\n",
            "8/8 [==============================] - 0s 12ms/step - loss: 0.1037\n",
            "Epoch 8/25\n",
            "8/8 [==============================] - 0s 14ms/step - loss: 0.0446\n",
            "Epoch 9/25\n",
            "8/8 [==============================] - 0s 14ms/step - loss: 0.0115\n",
            "Epoch 10/25\n",
            "8/8 [==============================] - 0s 13ms/step - loss: 0.0108\n",
            "Epoch 11/25\n",
            "8/8 [==============================] - 0s 13ms/step - loss: 0.0099\n",
            "Epoch 12/25\n",
            "8/8 [==============================] - 0s 14ms/step - loss: 0.0071\n",
            "Epoch 13/25\n",
            "8/8 [==============================] - 0s 14ms/step - loss: 0.0078\n",
            "Epoch 14/25\n",
            "8/8 [==============================] - 0s 12ms/step - loss: 0.0074\n",
            "Epoch 15/25\n",
            "8/8 [==============================] - 0s 13ms/step - loss: 0.0070\n",
            "Epoch 16/25\n",
            "8/8 [==============================] - 0s 12ms/step - loss: 0.0081\n",
            "Epoch 17/25\n",
            "8/8 [==============================] - 0s 15ms/step - loss: 0.0078\n",
            "Epoch 18/25\n",
            "8/8 [==============================] - 0s 13ms/step - loss: 0.0070\n",
            "Epoch 19/25\n",
            "8/8 [==============================] - 0s 13ms/step - loss: 0.0070\n",
            "Epoch 20/25\n",
            "8/8 [==============================] - 0s 15ms/step - loss: 0.0073\n",
            "Epoch 21/25\n",
            "8/8 [==============================] - 0s 13ms/step - loss: 0.0068\n",
            "Epoch 22/25\n",
            "8/8 [==============================] - 0s 13ms/step - loss: 0.0079\n",
            "Epoch 23/25\n",
            "8/8 [==============================] - 0s 14ms/step - loss: 0.0068\n",
            "Epoch 24/25\n",
            "8/8 [==============================] - 0s 13ms/step - loss: 0.0080\n",
            "Epoch 25/25\n",
            "8/8 [==============================] - 0s 12ms/step - loss: 0.0071\n"
          ],
          "name": "stdout"
        },
        {
          "output_type": "execute_result",
          "data": {
            "text/plain": [
              "<keras.callbacks.callbacks.History at 0x7f9ae7aeae10>"
            ]
          },
          "metadata": {
            "tags": []
          },
          "execution_count": 63
        }
      ]
    },
    {
      "cell_type": "markdown",
      "metadata": {
        "colab_type": "text",
        "id": "36AFYXA7Na1T"
      },
      "source": [
        "## Plot the loss"
      ]
    },
    {
      "cell_type": "code",
      "metadata": {
        "colab_type": "code",
        "id": "RJ-8XuKSNa1V",
        "colab": {
          "base_uri": "https://localhost:8080/"
        },
        "outputId": "0e7c14e0-9b1b-4f19-d2c4-d25f35b0ac9f"
      },
      "source": [
        "plt.plot(range(len(model.history.history['loss'])), model.history.history['loss'])"
      ],
      "execution_count": null,
      "outputs": [
        {
          "output_type": "execute_result",
          "data": {
            "text/plain": [
              "[<matplotlib.lines.Line2D at 0x7f9ae79aedd8>]"
            ]
          },
          "metadata": {
            "tags": []
          },
          "execution_count": 64
        },
        {
          "output_type": "display_data",
          "data": {
            "image/png": "[encoded data removed]",
            "text/plain": [
              "<Figure size 432x288 with 1 Axes>"
            ]
          },
          "metadata": {
            "tags": [],
            "needs_background": "light"
          }
        }
      ]
    },
    {
      "cell_type": "markdown",
      "metadata": {
        "colab_type": "text",
        "id": "KtkgdRnVNa1Z"
      },
      "source": [
        "## Evaluate the test data"
      ]
    },
    {
      "cell_type": "code",
      "metadata": {
        "colab_type": "code",
        "id": "d6UQX5GiNa1a",
        "colab": {
          "base_uri": "https://localhost:8080/"
        },
        "outputId": "b345a717-c67f-4723-d644-5a1f930ae801"
      },
      "source": [
        "first_eval_batch = scaled_df[-3:]\n",
        "first_eval_batch"
      ],
      "execution_count": null,
      "outputs": [
        {
          "output_type": "execute_result",
          "data": {
            "text/plain": [
              "array([[0.8],\n",
              "       [1. ],\n",
              "       [0.9]])"
            ]
          },
          "metadata": {
            "tags": []
          },
          "execution_count": 65
        }
      ]
    },
    {
      "cell_type": "code",
      "metadata": {
        "colab_type": "code",
        "id": "xeL-sTTsNa1c",
        "colab": {}
      },
      "source": [
        "first_eval_batch = first_eval_batch.reshape((1,n_input,n_features))"
      ],
      "execution_count": null,
      "outputs": []
    },
    {
      "cell_type": "code",
      "metadata": {
        "colab_type": "code",
        "id": "dU4D4gn-Na1f",
        "colab": {
          "base_uri": "https://localhost:8080/"
        },
        "outputId": "b38d0e86-1bb0-42b1-8c7f-6c51de6a4fe5"
      },
      "source": [
        "model.predict(first_eval_batch)"
      ],
      "execution_count": null,
      "outputs": [
        {
          "output_type": "execute_result",
          "data": {
            "text/plain": [
              "array([[0.98684984]], dtype=float32)"
            ]
          },
          "metadata": {
            "tags": []
          },
          "execution_count": 67
        }
      ]
    },
    {
      "cell_type": "code",
      "metadata": {
        "colab_type": "code",
        "id": "ZocrPBqzNa1i",
        "colab": {
          "base_uri": "https://localhost:8080/"
        },
        "outputId": "32bb00d0-9fbe-4dcb-a112-571302ac3842"
      },
      "source": [
        "scaled_df[0]"
      ],
      "execution_count": null,
      "outputs": [
        {
          "output_type": "execute_result",
          "data": {
            "text/plain": [
              "array([0.])"
            ]
          },
          "metadata": {
            "tags": []
          },
          "execution_count": 68
        }
      ]
    },
    {
      "cell_type": "markdown",
      "metadata": {
        "colab_type": "text",
        "id": "6W7dVTRNNa1l"
      },
      "source": [
        "## Forecasting using an RNN model"
      ]
    },
    {
      "cell_type": "code",
      "metadata": {
        "colab_type": "code",
        "id": "6SGjyBLXNwfW",
        "colab": {}
      },
      "source": [
        "df_predictions = []\n",
        "\n",
        "first_eval_batch = scaled_df[-n_input:]\n",
        "current_batch = first_eval_batch.reshape((1,n_input,n_features))\n",
        "\n",
        "#Forecast 3 years into the future\n",
        "\n",
        "for i in range(3):\n",
        "  #One timestep ahead of current twelve points\n",
        "  current_pred = model.predict(current_batch)[0]\n",
        "  #Store the prediction\n",
        "  df_predictions.append(current_pred)\n",
        "  #Update the current batch to include the prediction\n",
        "  current_batch = np.append(current_batch[:,1:,:],[[current_pred]],axis=1)\n"
      ],
      "execution_count": null,
      "outputs": []
    },
    {
      "cell_type": "code",
      "metadata": {
        "colab_type": "code",
        "id": "yLfxRkplNwfa",
        "colab": {
          "base_uri": "https://localhost:8080/",
          "height": 68
        },
        "outputId": "baf88617-3552-4bec-ed3d-28aeb4108100"
      },
      "source": [
        "#Test predictions scaled values\n",
        "df_predictions"
      ],
      "execution_count": null,
      "outputs": [
        {
          "output_type": "execute_result",
          "data": {
            "text/plain": [
              "[array([0.98684984], dtype=float32),\n",
              " array([1.0559297], dtype=float32),\n",
              " array([1.056718], dtype=float32)]"
            ]
          },
          "metadata": {
            "tags": []
          },
          "execution_count": 70
        }
      ]
    },
    {
      "cell_type": "code",
      "metadata": {
        "colab_type": "code",
        "id": "uPIgYybrNwfd",
        "colab": {
          "base_uri": "https://localhost:8080/",
          "height": 68
        },
        "outputId": "6dfbd1d6-4bc3-48e9-f3c3-c0d68120dc4b"
      },
      "source": [
        "#Reverse the transformation for interpretation\n",
        "\n",
        "true_predictions = scaler.inverse_transform(df_predictions)\n",
        "true_predictions\n"
      ],
      "execution_count": null,
      "outputs": [
        {
          "output_type": "execute_result",
          "data": {
            "text/plain": [
              "array([[11.86849844],\n",
              "       [12.55929661],\n",
              "       [12.56717992]])"
            ]
          },
          "metadata": {
            "tags": []
          },
          "execution_count": 71
        }
      ]
    },
    {
      "cell_type": "code",
      "metadata": {
        "id": "omoFloNPO18j",
        "colab_type": "code",
        "colab": {
          "base_uri": "https://localhost:8080/",
          "height": 255
        },
        "outputId": "5d7487d6-b444-4fde-b45d-1b2a523fe8e5"
      },
      "source": [
        "this_array = np.array([[0],\n",
        "       [0],\n",
        "       [0],\n",
        "       [0],\n",
        "       [0],\n",
        "       [0],\n",
        "       [0],\n",
        "       [0],\n",
        "       [0],\n",
        "       [0],\n",
        "       [0]])\n",
        "\n",
        "true_predictions = np.concatenate((this_array, true_predictions))\n",
        "true_predictions"
      ],
      "execution_count": null,
      "outputs": [
        {
          "output_type": "execute_result",
          "data": {
            "text/plain": [
              "array([[ 0.        ],\n",
              "       [ 0.        ],\n",
              "       [ 0.        ],\n",
              "       [ 0.        ],\n",
              "       [ 0.        ],\n",
              "       [ 0.        ],\n",
              "       [ 0.        ],\n",
              "       [ 0.        ],\n",
              "       [ 0.        ],\n",
              "       [ 0.        ],\n",
              "       [ 0.        ],\n",
              "       [11.86849844],\n",
              "       [12.55929661],\n",
              "       [12.56717992]])"
            ]
          },
          "metadata": {
            "tags": []
          },
          "execution_count": 72
        }
      ]
    },
    {
      "cell_type": "code",
      "metadata": {
        "colab_type": "code",
        "id": "GZilHdoQNwfh",
        "colab": {
          "base_uri": "https://localhost:8080/",
          "height": 390
        },
        "outputId": "d2cad7b0-c780-4d1f-ee72-1cf06895685a"
      },
      "source": [
        "df"
      ],
      "execution_count": null,
      "outputs": [
        {
          "output_type": "execute_result",
          "data": {
            "text/html": [
              "<div>\n",
              "<style scoped>\n",
              "    .dataframe tbody tr th:only-of-type {\n",
              "        vertical-align: middle;\n",
              "    }\n",
              "\n",
              "    .dataframe tbody tr th {\n",
              "        vertical-align: top;\n",
              "    }\n",
              "\n",
              "    .dataframe thead th {\n",
              "        text-align: right;\n",
              "    }\n",
              "</style>\n",
              "<table border=\"1\" class=\"dataframe\">\n",
              "  <thead>\n",
              "    <tr style=\"text-align: right;\">\n",
              "      <th></th>\n",
              "      <th>Brazil</th>\n",
              "    </tr>\n",
              "  </thead>\n",
              "  <tbody>\n",
              "    <tr>\n",
              "      <th>2010-01-01</th>\n",
              "      <td>2</td>\n",
              "    </tr>\n",
              "    <tr>\n",
              "      <th>2011-01-01</th>\n",
              "      <td>6</td>\n",
              "    </tr>\n",
              "    <tr>\n",
              "      <th>2012-01-01</th>\n",
              "      <td>7</td>\n",
              "    </tr>\n",
              "    <tr>\n",
              "      <th>2013-01-01</th>\n",
              "      <td>7</td>\n",
              "    </tr>\n",
              "    <tr>\n",
              "      <th>2014-01-01</th>\n",
              "      <td>7</td>\n",
              "    </tr>\n",
              "    <tr>\n",
              "      <th>2015-01-01</th>\n",
              "      <td>8</td>\n",
              "    </tr>\n",
              "    <tr>\n",
              "      <th>2016-01-01</th>\n",
              "      <td>10</td>\n",
              "    </tr>\n",
              "    <tr>\n",
              "      <th>2017-01-01</th>\n",
              "      <td>9</td>\n",
              "    </tr>\n",
              "    <tr>\n",
              "      <th>2018-01-01</th>\n",
              "      <td>10</td>\n",
              "    </tr>\n",
              "    <tr>\n",
              "      <th>2019-01-01</th>\n",
              "      <td>12</td>\n",
              "    </tr>\n",
              "    <tr>\n",
              "      <th>2020-01-01</th>\n",
              "      <td>11</td>\n",
              "    </tr>\n",
              "  </tbody>\n",
              "</table>\n",
              "</div>"
            ],
            "text/plain": [
              "            Brazil\n",
              "2010-01-01       2\n",
              "2011-01-01       6\n",
              "2012-01-01       7\n",
              "2013-01-01       7\n",
              "2014-01-01       7\n",
              "2015-01-01       8\n",
              "2016-01-01      10\n",
              "2017-01-01       9\n",
              "2018-01-01      10\n",
              "2019-01-01      12\n",
              "2020-01-01      11"
            ]
          },
          "metadata": {
            "tags": []
          },
          "execution_count": 73
        }
      ]
    },
    {
      "cell_type": "code",
      "metadata": {
        "colab_type": "code",
        "id": "t9uRncVaNwfk",
        "colab": {}
      },
      "source": [
        "index = pd.date_range('2010-01-01', periods=14, freq='AS')\n",
        "\n",
        "df = df.reindex(index)\n"
      ],
      "execution_count": null,
      "outputs": []
    },
    {
      "cell_type": "code",
      "metadata": {
        "colab_type": "code",
        "id": "d-6RV8wBNwfn",
        "colab": {
          "base_uri": "https://localhost:8080/",
          "height": 483
        },
        "outputId": "6162b3b0-dc35-4a0b-8084-f9256fb59ed9"
      },
      "source": [
        "df"
      ],
      "execution_count": null,
      "outputs": [
        {
          "output_type": "execute_result",
          "data": {
            "text/html": [
              "<div>\n",
              "<style scoped>\n",
              "    .dataframe tbody tr th:only-of-type {\n",
              "        vertical-align: middle;\n",
              "    }\n",
              "\n",
              "    .dataframe tbody tr th {\n",
              "        vertical-align: top;\n",
              "    }\n",
              "\n",
              "    .dataframe thead th {\n",
              "        text-align: right;\n",
              "    }\n",
              "</style>\n",
              "<table border=\"1\" class=\"dataframe\">\n",
              "  <thead>\n",
              "    <tr style=\"text-align: right;\">\n",
              "      <th></th>\n",
              "      <th>Brazil</th>\n",
              "    </tr>\n",
              "  </thead>\n",
              "  <tbody>\n",
              "    <tr>\n",
              "      <th>2010-01-01</th>\n",
              "      <td>2.0</td>\n",
              "    </tr>\n",
              "    <tr>\n",
              "      <th>2011-01-01</th>\n",
              "      <td>6.0</td>\n",
              "    </tr>\n",
              "    <tr>\n",
              "      <th>2012-01-01</th>\n",
              "      <td>7.0</td>\n",
              "    </tr>\n",
              "    <tr>\n",
              "      <th>2013-01-01</th>\n",
              "      <td>7.0</td>\n",
              "    </tr>\n",
              "    <tr>\n",
              "      <th>2014-01-01</th>\n",
              "      <td>7.0</td>\n",
              "    </tr>\n",
              "    <tr>\n",
              "      <th>2015-01-01</th>\n",
              "      <td>8.0</td>\n",
              "    </tr>\n",
              "    <tr>\n",
              "      <th>2016-01-01</th>\n",
              "      <td>10.0</td>\n",
              "    </tr>\n",
              "    <tr>\n",
              "      <th>2017-01-01</th>\n",
              "      <td>9.0</td>\n",
              "    </tr>\n",
              "    <tr>\n",
              "      <th>2018-01-01</th>\n",
              "      <td>10.0</td>\n",
              "    </tr>\n",
              "    <tr>\n",
              "      <th>2019-01-01</th>\n",
              "      <td>12.0</td>\n",
              "    </tr>\n",
              "    <tr>\n",
              "      <th>2020-01-01</th>\n",
              "      <td>11.0</td>\n",
              "    </tr>\n",
              "    <tr>\n",
              "      <th>2021-01-01</th>\n",
              "      <td>NaN</td>\n",
              "    </tr>\n",
              "    <tr>\n",
              "      <th>2022-01-01</th>\n",
              "      <td>NaN</td>\n",
              "    </tr>\n",
              "    <tr>\n",
              "      <th>2023-01-01</th>\n",
              "      <td>NaN</td>\n",
              "    </tr>\n",
              "  </tbody>\n",
              "</table>\n",
              "</div>"
            ],
            "text/plain": [
              "            Brazil\n",
              "2010-01-01     2.0\n",
              "2011-01-01     6.0\n",
              "2012-01-01     7.0\n",
              "2013-01-01     7.0\n",
              "2014-01-01     7.0\n",
              "2015-01-01     8.0\n",
              "2016-01-01    10.0\n",
              "2017-01-01     9.0\n",
              "2018-01-01    10.0\n",
              "2019-01-01    12.0\n",
              "2020-01-01    11.0\n",
              "2021-01-01     NaN\n",
              "2022-01-01     NaN\n",
              "2023-01-01     NaN"
            ]
          },
          "metadata": {
            "tags": []
          },
          "execution_count": 75
        }
      ]
    },
    {
      "cell_type": "code",
      "metadata": {
        "colab_type": "code",
        "id": "CKz-hQCdNwfp",
        "colab": {}
      },
      "source": [
        "#Add the predictions to the test dataframe\n",
        "\n",
        "df['Predictions'] = true_predictions"
      ],
      "execution_count": null,
      "outputs": []
    },
    {
      "cell_type": "code",
      "metadata": {
        "colab_type": "code",
        "id": "qaAm6KxHNwft",
        "colab": {
          "base_uri": "https://localhost:8080/",
          "height": 483
        },
        "outputId": "a9be1eb1-3aaa-4998-d9fc-531bac27f513"
      },
      "source": [
        "df"
      ],
      "execution_count": null,
      "outputs": [
        {
          "output_type": "execute_result",
          "data": {
            "text/html": [
              "<div>\n",
              "<style scoped>\n",
              "    .dataframe tbody tr th:only-of-type {\n",
              "        vertical-align: middle;\n",
              "    }\n",
              "\n",
              "    .dataframe tbody tr th {\n",
              "        vertical-align: top;\n",
              "    }\n",
              "\n",
              "    .dataframe thead th {\n",
              "        text-align: right;\n",
              "    }\n",
              "</style>\n",
              "<table border=\"1\" class=\"dataframe\">\n",
              "  <thead>\n",
              "    <tr style=\"text-align: right;\">\n",
              "      <th></th>\n",
              "      <th>Brazil</th>\n",
              "      <th>Predictions</th>\n",
              "    </tr>\n",
              "  </thead>\n",
              "  <tbody>\n",
              "    <tr>\n",
              "      <th>2010-01-01</th>\n",
              "      <td>2.0</td>\n",
              "      <td>0.000000</td>\n",
              "    </tr>\n",
              "    <tr>\n",
              "      <th>2011-01-01</th>\n",
              "      <td>6.0</td>\n",
              "      <td>0.000000</td>\n",
              "    </tr>\n",
              "    <tr>\n",
              "      <th>2012-01-01</th>\n",
              "      <td>7.0</td>\n",
              "      <td>0.000000</td>\n",
              "    </tr>\n",
              "    <tr>\n",
              "      <th>2013-01-01</th>\n",
              "      <td>7.0</td>\n",
              "      <td>0.000000</td>\n",
              "    </tr>\n",
              "    <tr>\n",
              "      <th>2014-01-01</th>\n",
              "      <td>7.0</td>\n",
              "      <td>0.000000</td>\n",
              "    </tr>\n",
              "    <tr>\n",
              "      <th>2015-01-01</th>\n",
              "      <td>8.0</td>\n",
              "      <td>0.000000</td>\n",
              "    </tr>\n",
              "    <tr>\n",
              "      <th>2016-01-01</th>\n",
              "      <td>10.0</td>\n",
              "      <td>0.000000</td>\n",
              "    </tr>\n",
              "    <tr>\n",
              "      <th>2017-01-01</th>\n",
              "      <td>9.0</td>\n",
              "      <td>0.000000</td>\n",
              "    </tr>\n",
              "    <tr>\n",
              "      <th>2018-01-01</th>\n",
              "      <td>10.0</td>\n",
              "      <td>0.000000</td>\n",
              "    </tr>\n",
              "    <tr>\n",
              "      <th>2019-01-01</th>\n",
              "      <td>12.0</td>\n",
              "      <td>0.000000</td>\n",
              "    </tr>\n",
              "    <tr>\n",
              "      <th>2020-01-01</th>\n",
              "      <td>11.0</td>\n",
              "      <td>0.000000</td>\n",
              "    </tr>\n",
              "    <tr>\n",
              "      <th>2021-01-01</th>\n",
              "      <td>NaN</td>\n",
              "      <td>11.868498</td>\n",
              "    </tr>\n",
              "    <tr>\n",
              "      <th>2022-01-01</th>\n",
              "      <td>NaN</td>\n",
              "      <td>12.559297</td>\n",
              "    </tr>\n",
              "    <tr>\n",
              "      <th>2023-01-01</th>\n",
              "      <td>NaN</td>\n",
              "      <td>12.567180</td>\n",
              "    </tr>\n",
              "  </tbody>\n",
              "</table>\n",
              "</div>"
            ],
            "text/plain": [
              "            Brazil  Predictions\n",
              "2010-01-01     2.0     0.000000\n",
              "2011-01-01     6.0     0.000000\n",
              "2012-01-01     7.0     0.000000\n",
              "2013-01-01     7.0     0.000000\n",
              "2014-01-01     7.0     0.000000\n",
              "2015-01-01     8.0     0.000000\n",
              "2016-01-01    10.0     0.000000\n",
              "2017-01-01     9.0     0.000000\n",
              "2018-01-01    10.0     0.000000\n",
              "2019-01-01    12.0     0.000000\n",
              "2020-01-01    11.0     0.000000\n",
              "2021-01-01     NaN    11.868498\n",
              "2022-01-01     NaN    12.559297\n",
              "2023-01-01     NaN    12.567180"
            ]
          },
          "metadata": {
            "tags": []
          },
          "execution_count": 77
        }
      ]
    },
    {
      "cell_type": "code",
      "metadata": {
        "colab_type": "code",
        "id": "5PZjuPmGNwfx",
        "colab": {
          "base_uri": "https://localhost:8080/",
          "height": 282
        },
        "outputId": "9c09b0d0-b929-4cb2-d9cc-6aeb9a0ce2df"
      },
      "source": [
        "df.plot()"
      ],
      "execution_count": null,
      "outputs": [
        {
          "output_type": "execute_result",
          "data": {
            "text/plain": [
              "<matplotlib.axes._subplots.AxesSubplot at 0x7f9ae795ad68>"
            ]
          },
          "metadata": {
            "tags": []
          },
          "execution_count": 78
        },
        {
          "output_type": "display_data",
          "data": {
            "image/png": "[encoded data removed]",
            "text/plain": [
              "<Figure size 432x288 with 1 Axes>"
            ]
          },
          "metadata": {
            "tags": [],
            "needs_background": "light"
          }
        }
      ]
    },
    {
      "cell_type": "markdown",
      "metadata": {
        "colab_type": "text",
        "id": "23sFTubmNwfz"
      },
      "source": [
        "Show a continued increse in the amount of Brazilian surfers in the mens CT. "
      ]
    },
    {
      "cell_type": "code",
      "metadata": {
        "id": "Zl2-vj39MsLF",
        "colab_type": "code",
        "colab": {
          "base_uri": "https://localhost:8080/",
          "height": 497
        },
        "outputId": "68a93791-56aa-4a29-c82e-556c27b8169e"
      },
      "source": [
        "ax = df['Brazil'].plot(label='Brazilian Surfers',legend=True,figsize=(12,8))\n",
        "\n",
        "df['Predictions'].iloc[-3:].plot(label='Predictions',legend=True,ax=ax)\n",
        "\n",
        "plt.xlabel('Years')\n",
        "plt.ylabel('Number of surfers')\n",
        "\n",
        "plt.savefig('rnn_predictions.jpeg')"
      ],
      "execution_count": null,
      "outputs": [
        {
          "output_type": "display_data",
          "data": {
            "image/png": "[encoded data removed]",
            "text/plain": [
              "<Figure size 864x576 with 1 Axes>"
            ]
          },
          "metadata": {
            "tags": [],
            "needs_background": "light"
          }
        }
      ]
    },
    {
      "cell_type": "markdown",
      "metadata": {
        "id": "_pzSOa2QMRNw",
        "colab_type": "text"
      },
      "source": [
        "Predicts that it will incrase a bit further and start to plateau. "
      ]
    },
    {
      "cell_type": "code",
      "metadata": {
        "id": "wQAn5CHsLSoD",
        "colab_type": "code",
        "colab": {}
      },
      "source": [
        ""
      ],
      "execution_count": null,
      "outputs": []
    }
  ]
}